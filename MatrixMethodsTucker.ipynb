{
 "cells": [
  {
   "cell_type": "code",
   "execution_count": 2,
   "metadata": {},
   "outputs": [],
   "source": [
    "import numpy as np\n",
    "\n",
    "def stHOSVD_3d(A, r1, r2, r3):\n",
    "# Construct Tucker decomposition of 3D tensor via stHOSVD with ranks [r1, r2, r3]\n",
    "    N1,N2,N3 = A.shape\n",
    "    A1=A.reshape(N1, N2 * N3)\n",
    "    U, s, V = np.linalg.svd(A1, full_matrices=False)\n",
    "    V1 = U[:,:r1]\n",
    "    V1 = V1.T\n",
    "    A1 = np.diag(s[:r1]) @ V[:r1,:] # r1 x N2*N3\n",
    "    A1 = A1.reshape(r1, N2, N3)\n",
    "    A1 = A1.transpose([0,2,1])\n",
    "    A1 = A1.reshape(r1 * N3, N2) # r1 ∗ N3 x N2\n",
    "    U, s, V = np.linalg.svd(A1, full_matrices=False)\n",
    "    V2= V[:r2,:] # r2xN2\n",
    "    U2 = U[:,:r2] @ np.diag(s[:r2]) # r1∗N3 x r2\n",
    "    U2 = U2.reshape(r1, N3, r2) # r1 x N3 x r2\n",
    "    U2 = U2.transpose([0,2,1]) # r1 x r2 x N3\n",
    "    U2 = U2.reshape(r1 * r2, N3) # r1∗r2 x N3\n",
    "    U, s, V = np.linalg.svd(U2, full_matrices=False)\n",
    "    V3 = V[:r3,:] # U3(r3,j)\n",
    "    G = U[:,:r3] @ np.diag(s[:r3])# r1 ∗ r2 x r3\n",
    "    G = G.reshape(r1, r2, r3) # main core\n",
    "    return G, V1, V2, V3"
   ]
  },
  {
   "cell_type": "code",
   "execution_count": null,
   "metadata": {},
   "outputs": [],
   "source": [
    "def myMatrixIndexSumFunc(i,j,k):\n",
    "    return i+j+k+3\n",
    "\n",
    "N1 = N2 = N3 = 64\n",
    "matr = np.fromfunction(myMatrixIndexSumFunc, [N1,N2,N3])\n",
    "\n",
    "test = stHOSVD_3d(matr, 2 , 2)"
   ]
  },
  {
   "cell_type": "code",
   "execution_count": 12,
   "metadata": {},
   "outputs": [
    {
     "name": "stdout",
     "output_type": "stream",
     "text": [
      "[[[0. 0. 0. 0.]\n",
      "  [0. 0. 0. 0.]]\n",
      "\n",
      " [[0. 0. 0. 0.]\n",
      "  [0. 0. 0. 0.]]]\n"
     ]
    }
   ],
   "source": [
    "a = np.ones((2,2,4))\n",
    "b = np.ones((2,2,4))\n",
    "print(a - b)\n"
   ]
  }
 ],
 "metadata": {
  "kernelspec": {
   "display_name": "Python 3",
   "language": "python",
   "name": "python3"
  },
  "language_info": {
   "codemirror_mode": {
    "name": "ipython",
    "version": 3
   },
   "file_extension": ".py",
   "mimetype": "text/x-python",
   "name": "python",
   "nbconvert_exporter": "python",
   "pygments_lexer": "ipython3",
   "version": "3.11.6"
  }
 },
 "nbformat": 4,
 "nbformat_minor": 2
}
