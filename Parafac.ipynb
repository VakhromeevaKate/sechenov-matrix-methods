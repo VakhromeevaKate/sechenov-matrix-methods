{
 "cells": [
  {
   "cell_type": "markdown",
   "metadata": {},
   "source": [
    "# PARAFAC Decomposition Example \n",
    "### (aka CP / CANDECOMP / PARAFAC)\n",
    "\n",
    "Идея тензорного разложения заключается в представлении исходного тензора X в виде суммы триад. Минимальное количество триад, на которые можно разложить тензор, назы- вается рангом тензора. Псевдо-ранг - это кол-во триад, которое получилось по итогу разложения (и это не всегда ранг, мы можем приблизить исходный тензор до какой-то допустимой для задачи точности, а остальное уйдет в тензор ошибок).\n",
    "\n",
    "PARAFAC можно представить себе как обобщение скелетного разложения на размерность выше двух, а также, по сути, частный случай разложения Таккера с единичным core-тензором G. И, в трехмерном случае, вместо суммы произведений маленького тензора на 3 матрицы, получается сумма произведений 3-х векторов (потому, что на супер диагонали G будут единицы).\n",
    "\n",
    "### 3х-мерный случай:\n",
    "\n",
    "\\begin{align}\n",
    "\\mathcal{\\underline X} = \\sum_{r=1}^R a_{r} * b_{r} * c_{r} + {\\underline E}\n",
    "\\end{align}\n",
    "\n",
    "где $\\mathcal{{\\underline X} - исходный \\space тензор}$,\n",
    "$\\mathcal{a_r, \\space b_r, \\space c_r - вектора}$,\n",
    "$\\mathcal{* - кронекерово \\space произведение}$,\n",
    "$\\mathcal{{\\underline E} - тензор \\space ошибок}$,\n",
    "$\\mathcal{{R} - псевдо-ранг \\space тензора \\space (количество \\space слагаемых).}$,\n",
    "\n",
    "### D-мерный случай:\n",
    "Для d-мерного тензора разложение будет выглядеть следующим образом:\n",
    "\n",
    "$\\mathcal{\\underline X} \\in \\mathbb{R}^{d}$ :\n",
    "\n",
    "\\begin{align}\n",
    "\\mathcal{\\underline X}_{(i_{1}, ... , i_{d})} = \\sum_{r=1}^R A_{(i_{1},\\space r)} * ... * A_{(i_{d},\\space r)} + {\\underline E}\n",
    "\\end{align}"
   ]
  },
  {
   "cell_type": "markdown",
   "metadata": {},
   "source": [
    "Для понимания, воспользуемся разложением по определению:\n",
    "\\begin{align}\n",
    "\\mathcal{\\underline X} = \\sum_{i,j,k≠0} e_{i} * e_{j} * e_{k} * {\\underline X(i,j,k)}\n",
    "\\end{align}\n",
    "где $\\mathcal{e_i, \\space e_j, \\space e_k - единичные \\space вектора}$"
   ]
  },
  {
   "cell_type": "code",
   "execution_count": 6,
   "metadata": {},
   "outputs": [],
   "source": [
    "import math\n",
    "import numpy as np\n",
    "\n",
    "# decomp_rank - кол-во слагаемых\n",
    "# в соответствии с вышеуказанной формулой, мы должны вернуть: \n",
    "# разложение в виде векторов\n",
    "# тензор ошибок нашего разложения\n",
    "\n",
    "class Triades:\n",
    "    def __init__(self, A, B, C, tensor_shape, row, slice):\n",
    "        self.A = A\n",
    "        self.B = B\n",
    "        self.C = C\n",
    "        self.tensor_shape = tensor_shape\n",
    "        self.row = row\n",
    "        self.slice = slice\n",
    "\n",
    "def get_factor_decomp_3d(tensor, row, slice):\n",
    "    A = tensor[row, :, slice] # i-я строка k-го среза\n",
    "    B = np.zeros_like(tensor[:, 0, slice]) # вектор из нулей\n",
    "    B[row] = 1 # установили единицу в нужной строке для умножения\n",
    "    C = np.zeros_like(tensor[0, 0, :]) # вектор из нулей\n",
    "    C[slice] = 1 # установили единицу в нужном срезе для умножения\n",
    "\n",
    "    triade = Triades(A=A, B=B, C=C, tensor_shape=tensor.shape, row=row, slice=slice)\n",
    "    # print(triade.A)\n",
    "    return triade\n",
    "\n",
    "def get_factor_product_3d(triade):\n",
    "    factor_tensor = np.zeros(triade.tensor_shape)\n",
    "    factor_tensor[triade.slice, triade.row, :] = triade.A\n",
    "    return factor_tensor\n",
    "    \n",
    "\n",
    "def get_diff(tensor_1, tensor_2):\n",
    "    return tensor_1 - tensor_2\n",
    "\n",
    "def get_summ(triades_list):\n",
    "    tensor_list = []\n",
    "    for i in range(len(triades_list)):\n",
    "        tensor_list.append(get_factor_product_3d(triades_list[i]))\n",
    "    if len(tensor_list) < 1:\n",
    "        return []\n",
    "    summ = np.zeros_like(tensor_list[0])\n",
    "    for i in range(len(tensor_list)):\n",
    "        summ = summ + tensor_list[i]\n",
    "    return summ\n",
    "\n",
    "\n",
    "def parafac_3d(data_tensor, decomp_rank):\n",
    "    I, J, K = data_tensor.shape\n",
    "    factor_list = []\n",
    "    error_tensor = np.zeros_like(data_tensor)\n",
    "    print(\"data_tensor shape:\", data_tensor.shape)\n",
    "\n",
    "    if (decomp_rank):\n",
    "        K = decomp_rank\n",
    "\n",
    "    # заполняем массив факторов:\n",
    "    for i in range(I):\n",
    "        for k in range(K):\n",
    "            factor_list.append(get_factor_decomp_3d(data_tensor, i, k))\n",
    "    \n",
    "    error_tensor = get_diff(data_tensor, get_summ(factor_list))\n",
    "\n",
    "    return factor_list, error_tensor\n",
    "\n",
    "    "
   ]
  },
  {
   "cell_type": "markdown",
   "metadata": {},
   "source": [
    "Здесь возьмем простую функцию (сумма индексов), чтобы можно было визуально оценить, что мы получаем при разложении:"
   ]
  },
  {
   "cell_type": "code",
   "execution_count": 7,
   "metadata": {},
   "outputs": [
    {
     "name": "stdout",
     "output_type": "stream",
     "text": [
      "data_tensor shape: (2, 2, 2)\n",
      "error_tensor:\n",
      "[[[0. 0.]\n",
      "  [0. 0.]]\n",
      "\n",
      " [[0. 0.]\n",
      "  [0. 0.]]]\n",
      "data_tensor:\n",
      "[[[3. 4.]\n",
      "  [4. 5.]]\n",
      "\n",
      " [[4. 5.]\n",
      "  [5. 6.]]]\n",
      "data_tensor shape: (2, 2, 2)\n",
      "error_tensor:\n",
      "[[[0. 0.]\n",
      "  [0. 0.]]\n",
      "\n",
      " [[4. 5.]\n",
      "  [5. 6.]]]\n",
      "data_tensor:\n",
      "[[[3. 4.]\n",
      "  [4. 5.]]\n",
      "\n",
      " [[4. 5.]\n",
      "  [5. 6.]]]\n"
     ]
    }
   ],
   "source": [
    "def myMatrixIndexSumFunc(i, j, k):\n",
    "    return i + j + k + 3\n",
    "\n",
    "N1 = N2 = N3 = 2\n",
    "T = np.fromfunction(myMatrixIndexSumFunc, [N1,N2,N3])\n",
    "\n",
    "# здесь нормальное разложение, по кол-ву элементов:\n",
    "factor_list, error_tensor = parafac_3d(T, 2)\n",
    "#print(\"factor_list:\")\n",
    "#print(factor_list)\n",
    "print(\"error_tensor:\")\n",
    "print(error_tensor)\n",
    "print(\"data_tensor:\")\n",
    "print(T)\n",
    "\n",
    "# здесь кол-во слагаемых меньше, чем нужно, поэтому тензор ошибок будет ненулевым:\n",
    "factor_list, error_tensor = parafac_3d(T, 1) \n",
    "#print(\"factor_list:\")\n",
    "#print(factor_list)\n",
    "print(\"error_tensor:\")\n",
    "print(error_tensor)\n",
    "print(\"data_tensor:\")\n",
    "print(T)"
   ]
  },
  {
   "cell_type": "markdown",
   "metadata": {},
   "source": [
    "Идея разложения в PARAFAC / CANDECOMP (ALS):\n",
    "1. Инициализируем тензор чем-нибудь с известныым разложением (случайным образом) $\\mathcal{\\underline X} = \\sum_{r=1}^R a_{r} * b_{r} * c_{r}$\n",
    "2. Фиксируем все значения ($\\mathcal b_{r} , c_{r}$), кроме выбранного ($\\mathcal a_{r}$)\n",
    "3. Решаем для него линейную задачу ALS (Aternating Least Squares, наименьших квадратов)\n",
    "4. Повторяем решение задачи ALS последовательно для всех оставшихся значений\n",
    "5. Повторяем процедуру, пока не достагнем критерия остановки (обычно точность или кол-во итераций)"
   ]
  },
  {
   "cell_type": "markdown",
   "metadata": {},
   "source": [
    "Для реальных задач можно воспользоваться библиотечной реализацией parafac. Например, из tensorLy:"
   ]
  },
  {
   "cell_type": "code",
   "execution_count": 5,
   "metadata": {},
   "outputs": [
    {
     "name": "stdout",
     "output_type": "stream",
     "text": [
      "[1. 1.]\n",
      "[array([[ 8.5940423 , -0.24768112],\n",
      "       [10.08277184, -0.14092481]]), array([[0.66508732, 1.72292692],\n",
      "       [0.78026222, 0.98087872]]), array([[0.66813138, 1.93681297],\n",
      "       [0.78379646, 1.10328796]])]\n"
     ]
    }
   ],
   "source": [
    "import numpy as np\n",
    "import tensorly as tl\n",
    "from tensorly.decomposition import parafac\n",
    "\n",
    "T = np.fromfunction(myMatrixIndexSumFunc, [N1,N2,N3])\n",
    "test2 = parafac(T, 2)\n",
    "\n",
    "print(test2.weights)\n",
    "print(test2.factors)"
   ]
  },
  {
   "cell_type": "markdown",
   "metadata": {},
   "source": [
    "Ниже пример использования "
   ]
  },
  {
   "cell_type": "code",
   "execution_count": 8,
   "metadata": {},
   "outputs": [
    {
     "data": {
      "image/png": "[encoded data removed]",
      "text/plain": [
       "<Figure size 640x480 with 1 Axes>"
      ]
     },
     "metadata": {},
     "output_type": "display_data"
    }
   ],
   "source": [
    "import matplotlib.pyplot as plt\n",
    "\n",
    "from time import time\n",
    "import numpy as np\n",
    "import tensorly as tl\n",
    "from tensorly.random import random_cp\n",
    "from tensorly.decomposition import CP, parafac\n",
    "\n",
    "tol = np.logspace(-1, -9) # толерантность\n",
    "err = np.empty_like(tol) # ошибка разложения без ЛП\n",
    "err_line_search = np.empty_like(tol) # ошибка разложения с ЛП\n",
    "tt = np.empty_like(tol) # время без ЛП\n",
    "tt_line_search = np.empty_like(tol) # время для ЛП\n",
    "\n",
    "# задаем какой-то поизвольный тензор\n",
    "tensor = random_cp((10, 10, 10), 3, random_state=1234, full=True)\n",
    "\n",
    "# Получаем разложение с высокой точностью для сравнения\n",
    "fac = parafac(tensor, rank=3, n_iter_max=2000000, tol=1.0e-15, linesearch=True)\n",
    "err_min = tl.norm(tl.cp_to_tensor(fac) - tensor)\n",
    "\n",
    "# PARAFAC без линейного поиска с подсчетом времени\n",
    "for index, item in enumerate(tol):\n",
    "    start = time()\n",
    "    cp = CP(rank=3, n_iter_max=2000000, tol=item, linesearch=False)\n",
    "    fac = cp.fit_transform(tensor)\n",
    "    tt[index] = time() - start\n",
    "    # считаем ошибку\n",
    "    err[index] = tl.norm(tl.cp_to_tensor(fac) - tensor)\n",
    "\n",
    "# PARAFAC с линейным поиском и подсчетом времени\n",
    "for index, item in enumerate(tol):\n",
    "    start = time()\n",
    "    cp = CP(rank=3, n_iter_max=2000000, tol=item, linesearch=True)\n",
    "    fac_line_search = cp.fit_transform(tensor)\n",
    "    tt_line_search[index] = time() - start\n",
    "    # Считаем ошибку\n",
    "    err_line_search[index] = tl.norm(tl.cp_to_tensor(fac_line_search) - tensor)\n",
    "\n",
    "# строим график для обоих вариантов\n",
    "fig = plt.figure()\n",
    "ax = fig.add_subplot(1, 1, 1)\n",
    "ax.loglog(tt, err - err_min, '.', label=\"С линейным поиском\")\n",
    "ax.loglog(tt_line_search, err_line_search - err_min, '.r', label=\"Без линейного поиска\")\n",
    "ax.legend()\n",
    "ax.set_ylabel(\"Time\")\n",
    "ax.set_xlabel(\"Error\")\n",
    "\n",
    "plt.show()"
   ]
  }
 ],
 "metadata": {
  "kernelspec": {
   "display_name": "Python 3",
   "language": "python",
   "name": "python3"
  },
  "language_info": {
   "codemirror_mode": {
    "name": "ipython",
    "version": 3
   },
   "file_extension": ".py",
   "mimetype": "text/x-python",
   "name": "python",
   "nbconvert_exporter": "python",
   "pygments_lexer": "ipython3",
   "version": "3.11.6"
  }
 },
 "nbformat": 4,
 "nbformat_minor": 2
}
